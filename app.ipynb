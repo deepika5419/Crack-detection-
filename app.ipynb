{
 "cells": [
  {
   "cell_type": "code",
   "execution_count": 17,
   "metadata": {},
   "outputs": [],
   "source": [
    "import os\n",
    "from flask import Flask, request, redirect, url_for, render_template\n",
    "from werkzeug.utils import secure_filename"
   ]
  },
  {
   "cell_type": "code",
   "execution_count": 18,
   "metadata": {},
   "outputs": [
    {
     "name": "stdout",
     "output_type": "stream",
     "text": [
      "Loading model\n"
     ]
    }
   ],
   "source": [
    "app=Flask(__name__)\n",
    "#app=Flask(__name__)\n",
    "#app=Flask(__name__)\n",
    "from keras.models import load_model\n",
    "from keras.backend import set_session\n",
    "from skimage.transform import resize\n",
    "import matplotlib.pyplot as plt\n",
    "import tensorflow as tf\n",
    "import numpy as np\n",
    "print(\"Loading model\")\n"
   ]
  },
  {
   "cell_type": "code",
   "execution_count": 19,
   "metadata": {},
   "outputs": [],
   "source": [
    "global sess\n",
    "sess = tf.Session()\n",
    "set_session(sess)\n",
    "global model\n",
    "model = tf.keras.models.load_model('D:\\Python\\Interview_Data\\AI_MODEL\\Model\\model.h5')\n",
    "global graph\n",
    "graph = tf.get_default_graph()"
   ]
  },
  {
   "cell_type": "code",
   "execution_count": 20,
   "metadata": {},
   "outputs": [],
   "source": [
    "@app.route('/',methods=['GET'])\n",
    "@app.route('/',methods=['POST'])\n",
    "def main_page():\n",
    "    if request.method == 'POST':\n",
    "        file = request.files['file']\n",
    "        filename = secure_filename(file.filename)\n",
    "        file.save(os.path.join('uploads', filename))\n",
    "        return redirect(url_for('prediction', filename=filename))\n",
    "    return render_template('C:\\\\Users\\\\Deepika\\\\Python_code_interview\\\\index.html')"
   ]
  },
  {
   "cell_type": "code",
   "execution_count": 21,
   "metadata": {},
   "outputs": [],
   "source": [
    "@app.route('/prediction/<filename>')\n",
    "def prediction(filename):\n",
    "    #Step 1\n",
    "    my_image = plt.imread(os.path.join('uploads', filename))\n",
    "    #Step 2\n",
    "    my_image_re = resize(my_image, (32,32,3))\n",
    "    \n",
    "    #Step 3\n",
    "    with graph.as_default():\n",
    "      set_session(sess)\n",
    "      probabilities = model.predict(np.array( [my_image_re,] ))[0,:]\n",
    "      print(probabilities)\n",
    "#Step 4\n",
    "      number_to_class = ['healthy', 'Defected']\n",
    "      index = np.argsort(probabilities)\n",
    "      predictions = {\n",
    "        \"class1\":number_to_class[index[9]],\n",
    "        \"class2\":number_to_class[index[8]],\n",
    "        \"class3\":number_to_class[index[7]],\n",
    "        \"prob1\":probabilities[index[9]],\n",
    "        \"prob2\":probabilities[index[8]],\n",
    "        \"prob3\":probabilities[index[7]],\n",
    "      }\n",
    "#Step 5\n",
    "    return render_template('C:\\\\Users\\\\Deepika\\\\Python_code_interview\\\\Predict.html', predictions=predictions)"
   ]
  },
  {
   "cell_type": "code",
   "execution_count": 22,
   "metadata": {},
   "outputs": [
    {
     "name": "stdout",
     "output_type": "stream",
     "text": [
      " * Serving Flask app \"__main__\" (lazy loading)\n",
      " * Environment: production\n",
      "   WARNING: Do not use the development server in a production environment.\n",
      "   Use a production WSGI server instead.\n",
      " * Debug mode: off\n"
     ]
    },
    {
     "name": "stderr",
     "output_type": "stream",
     "text": [
      " * Running on http://0.0.0.0:80/ (Press CTRL+C to quit)\n"
     ]
    }
   ],
   "source": [
    "app.run(host='0.0.0.0', port=80)"
   ]
  },
  {
   "cell_type": "code",
   "execution_count": 24,
   "metadata": {},
   "outputs": [
    {
     "name": "stdout",
     "output_type": "stream",
     "text": [
      " * Serving Flask app \"__main__\" (lazy loading)\n",
      " * Environment: production\n",
      "   WARNING: Do not use the development server in a production environment.\n",
      "   Use a production WSGI server instead.\n",
      " * Debug mode: on\n"
     ]
    },
    {
     "name": "stderr",
     "output_type": "stream",
     "text": [
      " * Restarting with stat\n"
     ]
    },
    {
     "ename": "SystemExit",
     "evalue": "1",
     "output_type": "error",
     "traceback": [
      "An exception has occurred, use %tb to see the full traceback.\n",
      "\u001b[1;31mSystemExit\u001b[0m\u001b[1;31m:\u001b[0m 1\n"
     ]
    }
   ],
   "source": [
    "if __name__ == \"__main__\":\n",
    "    app.run(debug=True)"
   ]
  },
  {
   "cell_type": "code",
   "execution_count": null,
   "metadata": {},
   "outputs": [],
   "source": []
  }
 ],
 "metadata": {
  "kernelspec": {
   "display_name": "Python 3",
   "language": "python",
   "name": "python3"
  },
  "language_info": {
   "codemirror_mode": {
    "name": "ipython",
    "version": 3
   },
   "file_extension": ".py",
   "mimetype": "text/x-python",
   "name": "python",
   "nbconvert_exporter": "python",
   "pygments_lexer": "ipython3",
   "version": "3.7.3"
  }
 },
 "nbformat": 4,
 "nbformat_minor": 2
}
